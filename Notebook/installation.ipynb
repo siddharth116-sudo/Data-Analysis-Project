!pip install -U scikit-learn pandas numpy matplotlib seaborn plotly joblib
!pip install -U xgboost lightgbm shap imbalanced-learn category_encoders

# The following two lines install a specific version of numpy and upgrade shap.
# This is often needed to resolve library conflicts and ensure SHAP works correctly.
!pip install numpy==1.26.4 shap --upgrade