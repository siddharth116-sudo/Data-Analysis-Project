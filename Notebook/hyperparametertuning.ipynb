from sklearn.model_selection import RandomizedSearchCV, StratifiedKFold
from sklearn.ensemble import RandomForestClassifier

# Define the hyperparameter search space.
param_dist = {
    "clf__n_estimators": [100, 200, 400],
    "clf__max_depth": [None, 8, 16, 24],
    "clf__min_samples_split": [2, 5, 10],
    "clf__min_samples_leaf": [1, 2, 4],
    "clf__class_weight": [None, 'balanced']
}

# Create a full pipeline with preprocessing and a RandomForest classifier.
pipe_full = Pipeline(steps=[('pre', preprocessor),
                            ('clf', RandomForestClassifier(random_state=42, n_jobs=-1))])

# Use Stratified K-Fold cross-validation for robust evaluation.
cv = StratifiedKFold(n_splits=5, shuffle=True, random_state=42)

# Run a randomized search to find the best hyperparameters for the model.
rs = RandomizedSearchCV(pipe_full, param_distributions=param_dist,
                        n_iter=20, scoring='f1', n_jobs=-1, cv=cv, random_state=42, verbose=1)
rs.fit(X_train, y_train)

# Print the best hyperparameters and evaluate the performance of the best model.
print("Best params:", rs.best_params_)
best_model = rs.best_estimator_
evaluate_model(best_model, X_test, y_test)