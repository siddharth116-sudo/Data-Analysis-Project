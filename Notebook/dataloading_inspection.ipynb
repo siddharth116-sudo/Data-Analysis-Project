from google.colab import files
import io, pandas as pd

# Upload the CSV file from your local machine to the Colab environment.
uploaded = files.upload()
fn = next(iter(uploaded))
df = pd.read_csv(io.BytesIO(uploaded[fn]))

# Display key information about the dataset.
print("Shape:", df.shape)
print("\nColumns & dtypes:\n", df.dtypes)
print("\nMissing values per column:\n", df.isnull().sum())
print("\nUnique values (sample, first 12 columns):")
for c in df.columns:
    print(f" - {c}: {df[c].nunique()} unique")

# Analyze the distribution of the target variable 'Placement'.
target_col = 'Placement'
print("\nTarget distribution:")
print(df[target_col].value_counts())
print("\nTarget proportions:")
print(df[target_col].value_counts(normalize=True))