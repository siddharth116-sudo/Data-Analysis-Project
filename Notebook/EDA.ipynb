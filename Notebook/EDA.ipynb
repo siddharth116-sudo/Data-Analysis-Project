import matplotlib.pyplot as plt
import seaborn as sns
import numpy as np

# Separate columns into numeric and categorical types.
num_cols = df.select_dtypes(include=[np.number]).columns.tolist()
cat_cols = df.select_dtypes(include=['object','category']).columns.tolist()

# 'College_ID' is identified as an ID and removed from the categorical list for modeling.
if 'College_ID' in cat_cols:
    cat_cols.remove('College_ID')

print("Numeric columns:", num_cols)
print("Categorical columns:", cat_cols)

# Plot histograms for all numeric features to see their distribution.
df[num_cols].hist(bins=20, figsize=(14,10))
plt.tight_layout()
plt.show()

# Plot countplots for low-cardinality categorical features to see their value counts.
for c in cat_cols:
    plt.figure(figsize=(6,3))
    sns.countplot(x=c, data=df, order=df[c].value_counts().index)
    plt.title(f"Countplot: {c}")
    plt.xticks(rotation=45)
    plt.show()

# Generate a correlation heatmap for numeric features to identify multicollinearity.
if len(num_cols) >= 2:
    plt.figure(figsize=(8,6))
    sns.heatmap(df[num_cols].corr(), annot=True, fmt=".2f", cmap='coolwarm')
    plt.title("Numeric features correlation")
    plt.show()