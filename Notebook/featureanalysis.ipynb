import pandas as pd
import matplotlib.pyplot as plt
import seaborn as sns

# Helper function to get feature names after preprocessing.
def get_feature_names(column_transformer):
    feature_names = []
    for name, trans, cols in column_transformer.transformers_:
        if name == 'remainder':
            continue
        if hasattr(trans, 'named_steps'):
            last_step = trans.named_steps[list(trans.named_steps.keys())[-1]]
        else:
            last_step = trans
        if hasattr(last_step, 'get_feature_names_out'):
            try:
                names = last_step.get_feature_names_out(cols)
            except:
                names = cols
        else:
            names = cols
        feature_names.extend(list(names))
    return feature_names

# Fit the preprocessor and get the feature names.
preprocessor.fit(X_train)
feature_names = get_feature_names(preprocessor)
print("Number of transformed features:", len(feature_names))

# Get feature importances from the trained Random Forest model.
rf_model = pipe_rf.named_steps['clf']
importances = rf_model.feature_importances_
fi = pd.Series(importances, index=feature_names).sort_values(ascending=False)
print(fi.head(30))

# Visualize the feature importances in a horizontal bar plot.
plt.figure(figsize=(8,6))
fi.head(20).plot(kind='barh')
plt.gca().invert_yaxis()
plt.title("RandomForest feature importances")
plt.show()